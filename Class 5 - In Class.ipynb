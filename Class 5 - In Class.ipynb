{
 "cells": [
  {
   "cell_type": "code",
   "execution_count": 1,
   "metadata": {
    "scrolled": false
   },
   "outputs": [],
   "source": [
    "import pandas as pd\n",
    "import numpy as np\n",
    "import matplotlib.pyplot as plt\n",
    "\n",
    "%matplotlib inline\n",
    "pd.set_option('display.float_format', lambda x: '%.3f' % x)\n",
    "plt.style.use('ggplot') #art in matplotlib.."
   ]
  },
  {
   "cell_type": "code",
   "execution_count": 3,
   "metadata": {
    "scrolled": false
   },
   "outputs": [],
   "source": [
    "# Read in the data\n",
    "path = 'data/simple_demographics.csv'\n",
    "df = pd.read_csv(path)"
   ]
  },
  {
   "cell_type": "code",
   "execution_count": 4,
   "metadata": {
    "scrolled": false
   },
   "outputs": [
    {
     "data": {
      "text/html": [
       "<div>\n",
       "<style scoped>\n",
       "    .dataframe tbody tr th:only-of-type {\n",
       "        vertical-align: middle;\n",
       "    }\n",
       "\n",
       "    .dataframe tbody tr th {\n",
       "        vertical-align: top;\n",
       "    }\n",
       "\n",
       "    .dataframe thead th {\n",
       "        text-align: right;\n",
       "    }\n",
       "</style>\n",
       "<table border=\"1\" class=\"dataframe\">\n",
       "  <thead>\n",
       "    <tr style=\"text-align: right;\">\n",
       "      <th></th>\n",
       "      <th>age</th>\n",
       "      <th>health</th>\n",
       "      <th>income</th>\n",
       "      <th>stress</th>\n",
       "    </tr>\n",
       "  </thead>\n",
       "  <tbody>\n",
       "    <tr>\n",
       "      <th>0</th>\n",
       "      <td>21</td>\n",
       "      <td>74</td>\n",
       "      <td>42746</td>\n",
       "      <td>53</td>\n",
       "    </tr>\n",
       "    <tr>\n",
       "      <th>1</th>\n",
       "      <td>33</td>\n",
       "      <td>64</td>\n",
       "      <td>72792</td>\n",
       "      <td>49</td>\n",
       "    </tr>\n",
       "    <tr>\n",
       "      <th>2</th>\n",
       "      <td>30</td>\n",
       "      <td>78</td>\n",
       "      <td>74178</td>\n",
       "      <td>64</td>\n",
       "    </tr>\n",
       "    <tr>\n",
       "      <th>3</th>\n",
       "      <td>32</td>\n",
       "      <td>71</td>\n",
       "      <td>102548</td>\n",
       "      <td>63</td>\n",
       "    </tr>\n",
       "    <tr>\n",
       "      <th>4</th>\n",
       "      <td>57</td>\n",
       "      <td>46</td>\n",
       "      <td>120418</td>\n",
       "      <td>35</td>\n",
       "    </tr>\n",
       "  </tbody>\n",
       "</table>\n",
       "</div>"
      ],
      "text/plain": [
       "   age  health  income  stress\n",
       "0   21      74   42746      53\n",
       "1   33      64   72792      49\n",
       "2   30      78   74178      64\n",
       "3   32      71  102548      63\n",
       "4   57      46  120418      35"
      ]
     },
     "execution_count": 4,
     "metadata": {},
     "output_type": "execute_result"
    }
   ],
   "source": [
    "# Print out the first 5 rows of the data\n",
    "df.head()"
   ]
  },
  {
   "cell_type": "markdown",
   "metadata": {},
   "source": [
    "# Part 1: Basic Stats"
   ]
  },
  {
   "cell_type": "markdown",
   "metadata": {},
   "source": [
    "Methods available include:\n",
    "    \n",
    "    .min() - Compute minimum value\n",
    "    .max() - Compute maximum value\n",
    "    .mean() - Compute mean value\n",
    "    .median() - Compute median value\n",
    "    .mode() - Compute mode value(s)\n",
    "    .count() - Count the number of observations"
   ]
  },
  {
   "cell_type": "code",
   "execution_count": 5,
   "metadata": {
    "scrolled": false
   },
   "outputs": [
    {
     "data": {
      "text/html": [
       "<div>\n",
       "<style scoped>\n",
       "    .dataframe tbody tr th:only-of-type {\n",
       "        vertical-align: middle;\n",
       "    }\n",
       "\n",
       "    .dataframe tbody tr th {\n",
       "        vertical-align: top;\n",
       "    }\n",
       "\n",
       "    .dataframe thead th {\n",
       "        text-align: right;\n",
       "    }\n",
       "</style>\n",
       "<table border=\"1\" class=\"dataframe\">\n",
       "  <thead>\n",
       "    <tr style=\"text-align: right;\">\n",
       "      <th></th>\n",
       "      <th>age</th>\n",
       "      <th>health</th>\n",
       "      <th>income</th>\n",
       "      <th>stress</th>\n",
       "    </tr>\n",
       "  </thead>\n",
       "  <tbody>\n",
       "    <tr>\n",
       "      <th>0</th>\n",
       "      <td>21.000</td>\n",
       "      <td>57.000</td>\n",
       "      <td>-7075</td>\n",
       "      <td>63.000</td>\n",
       "    </tr>\n",
       "    <tr>\n",
       "      <th>1</th>\n",
       "      <td>48.000</td>\n",
       "      <td>59.000</td>\n",
       "      <td>9823</td>\n",
       "      <td>nan</td>\n",
       "    </tr>\n",
       "    <tr>\n",
       "      <th>2</th>\n",
       "      <td>49.000</td>\n",
       "      <td>nan</td>\n",
       "      <td>10503</td>\n",
       "      <td>nan</td>\n",
       "    </tr>\n",
       "    <tr>\n",
       "      <th>3</th>\n",
       "      <td>59.000</td>\n",
       "      <td>nan</td>\n",
       "      <td>13576</td>\n",
       "      <td>nan</td>\n",
       "    </tr>\n",
       "    <tr>\n",
       "      <th>4</th>\n",
       "      <td>nan</td>\n",
       "      <td>nan</td>\n",
       "      <td>19325</td>\n",
       "      <td>nan</td>\n",
       "    </tr>\n",
       "    <tr>\n",
       "      <th>5</th>\n",
       "      <td>nan</td>\n",
       "      <td>nan</td>\n",
       "      <td>23778</td>\n",
       "      <td>nan</td>\n",
       "    </tr>\n",
       "    <tr>\n",
       "      <th>6</th>\n",
       "      <td>nan</td>\n",
       "      <td>nan</td>\n",
       "      <td>28169</td>\n",
       "      <td>nan</td>\n",
       "    </tr>\n",
       "    <tr>\n",
       "      <th>7</th>\n",
       "      <td>nan</td>\n",
       "      <td>nan</td>\n",
       "      <td>37375</td>\n",
       "      <td>nan</td>\n",
       "    </tr>\n",
       "    <tr>\n",
       "      <th>8</th>\n",
       "      <td>nan</td>\n",
       "      <td>nan</td>\n",
       "      <td>37834</td>\n",
       "      <td>nan</td>\n",
       "    </tr>\n",
       "    <tr>\n",
       "      <th>9</th>\n",
       "      <td>nan</td>\n",
       "      <td>nan</td>\n",
       "      <td>39114</td>\n",
       "      <td>nan</td>\n",
       "    </tr>\n",
       "    <tr>\n",
       "      <th>10</th>\n",
       "      <td>nan</td>\n",
       "      <td>nan</td>\n",
       "      <td>42191</td>\n",
       "      <td>nan</td>\n",
       "    </tr>\n",
       "    <tr>\n",
       "      <th>11</th>\n",
       "      <td>nan</td>\n",
       "      <td>nan</td>\n",
       "      <td>42746</td>\n",
       "      <td>nan</td>\n",
       "    </tr>\n",
       "    <tr>\n",
       "      <th>12</th>\n",
       "      <td>nan</td>\n",
       "      <td>nan</td>\n",
       "      <td>43830</td>\n",
       "      <td>nan</td>\n",
       "    </tr>\n",
       "    <tr>\n",
       "      <th>13</th>\n",
       "      <td>nan</td>\n",
       "      <td>nan</td>\n",
       "      <td>44722</td>\n",
       "      <td>nan</td>\n",
       "    </tr>\n",
       "    <tr>\n",
       "      <th>14</th>\n",
       "      <td>nan</td>\n",
       "      <td>nan</td>\n",
       "      <td>44931</td>\n",
       "      <td>nan</td>\n",
       "    </tr>\n",
       "    <tr>\n",
       "      <th>15</th>\n",
       "      <td>nan</td>\n",
       "      <td>nan</td>\n",
       "      <td>45362</td>\n",
       "      <td>nan</td>\n",
       "    </tr>\n",
       "    <tr>\n",
       "      <th>16</th>\n",
       "      <td>nan</td>\n",
       "      <td>nan</td>\n",
       "      <td>46874</td>\n",
       "      <td>nan</td>\n",
       "    </tr>\n",
       "    <tr>\n",
       "      <th>17</th>\n",
       "      <td>nan</td>\n",
       "      <td>nan</td>\n",
       "      <td>47200</td>\n",
       "      <td>nan</td>\n",
       "    </tr>\n",
       "    <tr>\n",
       "      <th>18</th>\n",
       "      <td>nan</td>\n",
       "      <td>nan</td>\n",
       "      <td>48599</td>\n",
       "      <td>nan</td>\n",
       "    </tr>\n",
       "    <tr>\n",
       "      <th>19</th>\n",
       "      <td>nan</td>\n",
       "      <td>nan</td>\n",
       "      <td>50780</td>\n",
       "      <td>nan</td>\n",
       "    </tr>\n",
       "    <tr>\n",
       "      <th>20</th>\n",
       "      <td>nan</td>\n",
       "      <td>nan</td>\n",
       "      <td>53883</td>\n",
       "      <td>nan</td>\n",
       "    </tr>\n",
       "    <tr>\n",
       "      <th>21</th>\n",
       "      <td>nan</td>\n",
       "      <td>nan</td>\n",
       "      <td>56625</td>\n",
       "      <td>nan</td>\n",
       "    </tr>\n",
       "    <tr>\n",
       "      <th>22</th>\n",
       "      <td>nan</td>\n",
       "      <td>nan</td>\n",
       "      <td>57114</td>\n",
       "      <td>nan</td>\n",
       "    </tr>\n",
       "    <tr>\n",
       "      <th>23</th>\n",
       "      <td>nan</td>\n",
       "      <td>nan</td>\n",
       "      <td>59109</td>\n",
       "      <td>nan</td>\n",
       "    </tr>\n",
       "    <tr>\n",
       "      <th>24</th>\n",
       "      <td>nan</td>\n",
       "      <td>nan</td>\n",
       "      <td>60463</td>\n",
       "      <td>nan</td>\n",
       "    </tr>\n",
       "    <tr>\n",
       "      <th>25</th>\n",
       "      <td>nan</td>\n",
       "      <td>nan</td>\n",
       "      <td>60669</td>\n",
       "      <td>nan</td>\n",
       "    </tr>\n",
       "    <tr>\n",
       "      <th>26</th>\n",
       "      <td>nan</td>\n",
       "      <td>nan</td>\n",
       "      <td>62147</td>\n",
       "      <td>nan</td>\n",
       "    </tr>\n",
       "    <tr>\n",
       "      <th>27</th>\n",
       "      <td>nan</td>\n",
       "      <td>nan</td>\n",
       "      <td>63102</td>\n",
       "      <td>nan</td>\n",
       "    </tr>\n",
       "    <tr>\n",
       "      <th>28</th>\n",
       "      <td>nan</td>\n",
       "      <td>nan</td>\n",
       "      <td>63959</td>\n",
       "      <td>nan</td>\n",
       "    </tr>\n",
       "    <tr>\n",
       "      <th>29</th>\n",
       "      <td>nan</td>\n",
       "      <td>nan</td>\n",
       "      <td>64065</td>\n",
       "      <td>nan</td>\n",
       "    </tr>\n",
       "    <tr>\n",
       "      <th>...</th>\n",
       "      <td>...</td>\n",
       "      <td>...</td>\n",
       "      <td>...</td>\n",
       "      <td>...</td>\n",
       "    </tr>\n",
       "    <tr>\n",
       "      <th>45</th>\n",
       "      <td>nan</td>\n",
       "      <td>nan</td>\n",
       "      <td>89339</td>\n",
       "      <td>nan</td>\n",
       "    </tr>\n",
       "    <tr>\n",
       "      <th>46</th>\n",
       "      <td>nan</td>\n",
       "      <td>nan</td>\n",
       "      <td>91345</td>\n",
       "      <td>nan</td>\n",
       "    </tr>\n",
       "    <tr>\n",
       "      <th>47</th>\n",
       "      <td>nan</td>\n",
       "      <td>nan</td>\n",
       "      <td>92043</td>\n",
       "      <td>nan</td>\n",
       "    </tr>\n",
       "    <tr>\n",
       "      <th>48</th>\n",
       "      <td>nan</td>\n",
       "      <td>nan</td>\n",
       "      <td>93572</td>\n",
       "      <td>nan</td>\n",
       "    </tr>\n",
       "    <tr>\n",
       "      <th>49</th>\n",
       "      <td>nan</td>\n",
       "      <td>nan</td>\n",
       "      <td>94495</td>\n",
       "      <td>nan</td>\n",
       "    </tr>\n",
       "    <tr>\n",
       "      <th>50</th>\n",
       "      <td>nan</td>\n",
       "      <td>nan</td>\n",
       "      <td>96044</td>\n",
       "      <td>nan</td>\n",
       "    </tr>\n",
       "    <tr>\n",
       "      <th>51</th>\n",
       "      <td>nan</td>\n",
       "      <td>nan</td>\n",
       "      <td>96986</td>\n",
       "      <td>nan</td>\n",
       "    </tr>\n",
       "    <tr>\n",
       "      <th>52</th>\n",
       "      <td>nan</td>\n",
       "      <td>nan</td>\n",
       "      <td>97169</td>\n",
       "      <td>nan</td>\n",
       "    </tr>\n",
       "    <tr>\n",
       "      <th>53</th>\n",
       "      <td>nan</td>\n",
       "      <td>nan</td>\n",
       "      <td>100332</td>\n",
       "      <td>nan</td>\n",
       "    </tr>\n",
       "    <tr>\n",
       "      <th>54</th>\n",
       "      <td>nan</td>\n",
       "      <td>nan</td>\n",
       "      <td>101740</td>\n",
       "      <td>nan</td>\n",
       "    </tr>\n",
       "    <tr>\n",
       "      <th>55</th>\n",
       "      <td>nan</td>\n",
       "      <td>nan</td>\n",
       "      <td>102548</td>\n",
       "      <td>nan</td>\n",
       "    </tr>\n",
       "    <tr>\n",
       "      <th>56</th>\n",
       "      <td>nan</td>\n",
       "      <td>nan</td>\n",
       "      <td>103878</td>\n",
       "      <td>nan</td>\n",
       "    </tr>\n",
       "    <tr>\n",
       "      <th>57</th>\n",
       "      <td>nan</td>\n",
       "      <td>nan</td>\n",
       "      <td>108012</td>\n",
       "      <td>nan</td>\n",
       "    </tr>\n",
       "    <tr>\n",
       "      <th>58</th>\n",
       "      <td>nan</td>\n",
       "      <td>nan</td>\n",
       "      <td>111748</td>\n",
       "      <td>nan</td>\n",
       "    </tr>\n",
       "    <tr>\n",
       "      <th>59</th>\n",
       "      <td>nan</td>\n",
       "      <td>nan</td>\n",
       "      <td>111933</td>\n",
       "      <td>nan</td>\n",
       "    </tr>\n",
       "    <tr>\n",
       "      <th>60</th>\n",
       "      <td>nan</td>\n",
       "      <td>nan</td>\n",
       "      <td>118132</td>\n",
       "      <td>nan</td>\n",
       "    </tr>\n",
       "    <tr>\n",
       "      <th>61</th>\n",
       "      <td>nan</td>\n",
       "      <td>nan</td>\n",
       "      <td>119637</td>\n",
       "      <td>nan</td>\n",
       "    </tr>\n",
       "    <tr>\n",
       "      <th>62</th>\n",
       "      <td>nan</td>\n",
       "      <td>nan</td>\n",
       "      <td>120418</td>\n",
       "      <td>nan</td>\n",
       "    </tr>\n",
       "    <tr>\n",
       "      <th>63</th>\n",
       "      <td>nan</td>\n",
       "      <td>nan</td>\n",
       "      <td>123257</td>\n",
       "      <td>nan</td>\n",
       "    </tr>\n",
       "    <tr>\n",
       "      <th>64</th>\n",
       "      <td>nan</td>\n",
       "      <td>nan</td>\n",
       "      <td>127952</td>\n",
       "      <td>nan</td>\n",
       "    </tr>\n",
       "    <tr>\n",
       "      <th>65</th>\n",
       "      <td>nan</td>\n",
       "      <td>nan</td>\n",
       "      <td>140503</td>\n",
       "      <td>nan</td>\n",
       "    </tr>\n",
       "    <tr>\n",
       "      <th>66</th>\n",
       "      <td>nan</td>\n",
       "      <td>nan</td>\n",
       "      <td>142147</td>\n",
       "      <td>nan</td>\n",
       "    </tr>\n",
       "    <tr>\n",
       "      <th>67</th>\n",
       "      <td>nan</td>\n",
       "      <td>nan</td>\n",
       "      <td>147338</td>\n",
       "      <td>nan</td>\n",
       "    </tr>\n",
       "    <tr>\n",
       "      <th>68</th>\n",
       "      <td>nan</td>\n",
       "      <td>nan</td>\n",
       "      <td>148140</td>\n",
       "      <td>nan</td>\n",
       "    </tr>\n",
       "    <tr>\n",
       "      <th>69</th>\n",
       "      <td>nan</td>\n",
       "      <td>nan</td>\n",
       "      <td>148951</td>\n",
       "      <td>nan</td>\n",
       "    </tr>\n",
       "    <tr>\n",
       "      <th>70</th>\n",
       "      <td>nan</td>\n",
       "      <td>nan</td>\n",
       "      <td>153873</td>\n",
       "      <td>nan</td>\n",
       "    </tr>\n",
       "    <tr>\n",
       "      <th>71</th>\n",
       "      <td>nan</td>\n",
       "      <td>nan</td>\n",
       "      <td>156755</td>\n",
       "      <td>nan</td>\n",
       "    </tr>\n",
       "    <tr>\n",
       "      <th>72</th>\n",
       "      <td>nan</td>\n",
       "      <td>nan</td>\n",
       "      <td>157694</td>\n",
       "      <td>nan</td>\n",
       "    </tr>\n",
       "    <tr>\n",
       "      <th>73</th>\n",
       "      <td>nan</td>\n",
       "      <td>nan</td>\n",
       "      <td>203652</td>\n",
       "      <td>nan</td>\n",
       "    </tr>\n",
       "    <tr>\n",
       "      <th>74</th>\n",
       "      <td>nan</td>\n",
       "      <td>nan</td>\n",
       "      <td>236240</td>\n",
       "      <td>nan</td>\n",
       "    </tr>\n",
       "  </tbody>\n",
       "</table>\n",
       "<p>75 rows × 4 columns</p>\n",
       "</div>"
      ],
      "text/plain": [
       "      age  health  income  stress\n",
       "0  21.000  57.000   -7075  63.000\n",
       "1  48.000  59.000    9823     nan\n",
       "2  49.000     nan   10503     nan\n",
       "3  59.000     nan   13576     nan\n",
       "4     nan     nan   19325     nan\n",
       "5     nan     nan   23778     nan\n",
       "6     nan     nan   28169     nan\n",
       "7     nan     nan   37375     nan\n",
       "8     nan     nan   37834     nan\n",
       "9     nan     nan   39114     nan\n",
       "10    nan     nan   42191     nan\n",
       "11    nan     nan   42746     nan\n",
       "12    nan     nan   43830     nan\n",
       "13    nan     nan   44722     nan\n",
       "14    nan     nan   44931     nan\n",
       "15    nan     nan   45362     nan\n",
       "16    nan     nan   46874     nan\n",
       "17    nan     nan   47200     nan\n",
       "18    nan     nan   48599     nan\n",
       "19    nan     nan   50780     nan\n",
       "20    nan     nan   53883     nan\n",
       "21    nan     nan   56625     nan\n",
       "22    nan     nan   57114     nan\n",
       "23    nan     nan   59109     nan\n",
       "24    nan     nan   60463     nan\n",
       "25    nan     nan   60669     nan\n",
       "26    nan     nan   62147     nan\n",
       "27    nan     nan   63102     nan\n",
       "28    nan     nan   63959     nan\n",
       "29    nan     nan   64065     nan\n",
       "..    ...     ...     ...     ...\n",
       "45    nan     nan   89339     nan\n",
       "46    nan     nan   91345     nan\n",
       "47    nan     nan   92043     nan\n",
       "48    nan     nan   93572     nan\n",
       "49    nan     nan   94495     nan\n",
       "50    nan     nan   96044     nan\n",
       "51    nan     nan   96986     nan\n",
       "52    nan     nan   97169     nan\n",
       "53    nan     nan  100332     nan\n",
       "54    nan     nan  101740     nan\n",
       "55    nan     nan  102548     nan\n",
       "56    nan     nan  103878     nan\n",
       "57    nan     nan  108012     nan\n",
       "58    nan     nan  111748     nan\n",
       "59    nan     nan  111933     nan\n",
       "60    nan     nan  118132     nan\n",
       "61    nan     nan  119637     nan\n",
       "62    nan     nan  120418     nan\n",
       "63    nan     nan  123257     nan\n",
       "64    nan     nan  127952     nan\n",
       "65    nan     nan  140503     nan\n",
       "66    nan     nan  142147     nan\n",
       "67    nan     nan  147338     nan\n",
       "68    nan     nan  148140     nan\n",
       "69    nan     nan  148951     nan\n",
       "70    nan     nan  153873     nan\n",
       "71    nan     nan  156755     nan\n",
       "72    nan     nan  157694     nan\n",
       "73    nan     nan  203652     nan\n",
       "74    nan     nan  236240     nan\n",
       "\n",
       "[75 rows x 4 columns]"
      ]
     },
     "execution_count": 5,
     "metadata": {},
     "output_type": "execute_result"
    }
   ],
   "source": [
    "# Remember, a dataset can have multiple modes\n",
    "df.mode()"
   ]
  },
  {
   "cell_type": "markdown",
   "metadata": {},
   "source": [
    "# Part 2: Box Plot"
   ]
  },
  {
   "cell_type": "markdown",
   "metadata": {},
   "source": [
    "The box plot is a standardized way of displaying the distribution of the data. It's made up of two parts:\n",
    "\n",
    "** The Box **\n",
    "- extends from the 25th percentile to the 75th percentile\n",
    "- the difference between the two ends is known as the inter-quartile range (IQR)\n",
    "- the median, or 50th percentile, is represented with a line in the box\n",
    "\n",
    "** The Whiskers **\n",
    "- the lower whisker extends to the greater of the minimum of the data or the 25th percentile minus 1.5 times the IQR\n",
    "```\n",
    "a = df.min()\n",
    "iqr = df.quantile(0.75) - df.quantile(0.25)\n",
    "b = df.quantile(0.25) - 1.5 * iqr\n",
    "lower_whisker = max(a, b)\n",
    "```\n",
    "- the upper whisker extends to the lesser of the maximum of the data or the 75th percentile plush 1.5 times the IQR\n",
    "```\n",
    "a = df.max()\n",
    "iqr = df.quantile(0.75) - df.quantile(0.25)\n",
    "b = df.quantile(0.75) + 1.5 * iqr\n",
    "upper_whisker = min(a, b)\n",
    "```\n",
    "- if the whiskers don't reach to the `min` or `max` of the data, then points outside the whiskers are indicated on the box plot\n",
    "- **NOTE: the whiskers always extend to an actual point in the data! Therefore, if the whiskers extend to `1.5 * IQR` then they will actually show as extending to the most extreme data point within the whisker range**"
   ]
  },
  {
   "cell_type": "code",
   "execution_count": 6,
   "metadata": {
    "scrolled": false
   },
   "outputs": [
    {
     "data": {
      "text/plain": [
       "<matplotlib.axes._subplots.AxesSubplot at 0x6f251b0>"
      ]
     },
     "execution_count": 6,
     "metadata": {},
     "output_type": "execute_result"
    },
    {
     "data": {
      "image/png": "[encoded data removed]",
      "text/plain": [
       "<matplotlib.figure.Figure at 0x6f05d30>"
      ]
     },
     "metadata": {},
     "output_type": "display_data"
    }
   ],
   "source": [
    "# Use a box plot to visualize the age data\n",
    "df['age'].plot(kind='box')"
   ]
  },
  {
   "cell_type": "code",
   "execution_count": 7,
   "metadata": {
    "scrolled": false
   },
   "outputs": [
    {
     "data": {
      "text/plain": [
       "<matplotlib.axes._subplots.AxesSubplot at 0x6f054b0>"
      ]
     },
     "execution_count": 7,
     "metadata": {},
     "output_type": "execute_result"
    },
    {
     "data": {
      "image/png": "[encoded data removed]",
      "text/plain": [
       "<matplotlib.figure.Figure at 0x6f407d0>"
      ]
     },
     "metadata": {},
     "output_type": "display_data"
    }
   ],
   "source": [
    "# Use a box plot to visualize the income data\n",
    "df['income'].plot(kind='box', figsize=(6,4))"
   ]
  },
  {
   "cell_type": "code",
   "execution_count": 20,
   "metadata": {
    "scrolled": false
   },
   "outputs": [
    {
     "data": {
      "text/plain": [
       "67.0"
      ]
     },
     "execution_count": 20,
     "metadata": {},
     "output_type": "execute_result"
    }
   ],
   "source": [
    "# Write the code to figure out the exact points for all of the parts of the boxplot of the 'health' column\n",
    "#df['health'].plot(kind='box')\n",
    "df['health'].quantile(0.75)"
   ]
  },
  {
   "cell_type": "markdown",
   "metadata": {},
   "source": [
    "# Part 3: Standard Deviation and Variance"
   ]
  },
  {
   "cell_type": "markdown",
   "metadata": {},
   "source": [
    "**Variance** = measures how far a set of numbers are spread out from their average value\n",
    "<br>\n",
    "**Standard Deviation** = square root of the variance (measured in the same units as the data)\n",
    "\n",
    "<img(src='images/samplevarstd.png', style=\"width: 60%; height: 60%\")>"
   ]
  },
  {
   "cell_type": "code",
   "execution_count": 21,
   "metadata": {
    "scrolled": false
   },
   "outputs": [
    {
     "data": {
      "text/plain": [
       "age             141.482\n",
       "health          209.938\n",
       "income   1979108244.751\n",
       "stress          271.240\n",
       "dtype: float64"
      ]
     },
     "execution_count": 21,
     "metadata": {},
     "output_type": "execute_result"
    }
   ],
   "source": [
    "# Calculate the variance of the data\n",
    "df.var()"
   ]
  },
  {
   "cell_type": "code",
   "execution_count": 22,
   "metadata": {
    "scrolled": false
   },
   "outputs": [
    {
     "data": {
      "text/plain": [
       "age         11.895\n",
       "health      14.489\n",
       "income   44487.169\n",
       "stress      16.469\n",
       "dtype: float64"
      ]
     },
     "execution_count": 22,
     "metadata": {},
     "output_type": "execute_result"
    }
   ],
   "source": [
    "# Calculate the standard deviation of the data\n",
    "df.std()"
   ]
  },
  {
   "cell_type": "markdown",
   "metadata": {},
   "source": [
    "### Parameter vs. Statistic\n",
    "\n",
    "**Parameter** = characteristic about a ***population***\n",
    "<br>\n",
    "**Statistic** = characteristic about a ***sample***\n",
    "\n",
    "Parameters are normally *unknown* -- we are not able to calculate characteristics about a population, but we can calculate them for a sample.\n",
    "- For example, consider the average height for an American male\n",
    "- The population in this case is **all American males**\n",
    "- It's not feasible (nor possible) to measure **every** American male to calculate the mean -- if we could, that mean would be a **parameter of the population**\n",
    "- We can, however, get data from a sample of men -- the mean of this sample is considered a **sample statistic**"
   ]
  },
  {
   "cell_type": "markdown",
   "metadata": {},
   "source": [
    "### Standard Error\n",
    "\n",
    "The standard error of a parameter is the standard deviation of its sampling distribution. In other words, the standard error measures the variance of a sample statistic."
   ]
  },
  {
   "cell_type": "code",
   "execution_count": 32,
   "metadata": {
    "scrolled": false
   },
   "outputs": [],
   "source": [
    "# Generate 1000 samples of 10000 draws from a normal distribution\n",
    "samples = pd.DataFrame(np.random.normal(loc=0, scale=1, size=(10000, 1000)))    #loc = mean, scale=standard deviation"
   ]
  },
  {
   "cell_type": "code",
   "execution_count": 33,
   "metadata": {
    "scrolled": false
   },
   "outputs": [
    {
     "data": {
      "text/html": [
       "<div>\n",
       "<style scoped>\n",
       "    .dataframe tbody tr th:only-of-type {\n",
       "        vertical-align: middle;\n",
       "    }\n",
       "\n",
       "    .dataframe tbody tr th {\n",
       "        vertical-align: top;\n",
       "    }\n",
       "\n",
       "    .dataframe thead th {\n",
       "        text-align: right;\n",
       "    }\n",
       "</style>\n",
       "<table border=\"1\" class=\"dataframe\">\n",
       "  <thead>\n",
       "    <tr style=\"text-align: right;\">\n",
       "      <th></th>\n",
       "      <th>0</th>\n",
       "      <th>1</th>\n",
       "      <th>2</th>\n",
       "      <th>3</th>\n",
       "      <th>4</th>\n",
       "      <th>5</th>\n",
       "      <th>6</th>\n",
       "      <th>7</th>\n",
       "      <th>8</th>\n",
       "      <th>9</th>\n",
       "      <th>...</th>\n",
       "      <th>990</th>\n",
       "      <th>991</th>\n",
       "      <th>992</th>\n",
       "      <th>993</th>\n",
       "      <th>994</th>\n",
       "      <th>995</th>\n",
       "      <th>996</th>\n",
       "      <th>997</th>\n",
       "      <th>998</th>\n",
       "      <th>999</th>\n",
       "    </tr>\n",
       "  </thead>\n",
       "  <tbody>\n",
       "    <tr>\n",
       "      <th>9995</th>\n",
       "      <td>0.609</td>\n",
       "      <td>-0.898</td>\n",
       "      <td>-0.230</td>\n",
       "      <td>0.510</td>\n",
       "      <td>0.474</td>\n",
       "      <td>-0.083</td>\n",
       "      <td>-1.070</td>\n",
       "      <td>0.283</td>\n",
       "      <td>1.448</td>\n",
       "      <td>0.855</td>\n",
       "      <td>...</td>\n",
       "      <td>-1.852</td>\n",
       "      <td>2.455</td>\n",
       "      <td>1.311</td>\n",
       "      <td>0.435</td>\n",
       "      <td>0.928</td>\n",
       "      <td>-1.265</td>\n",
       "      <td>-0.897</td>\n",
       "      <td>-0.928</td>\n",
       "      <td>0.493</td>\n",
       "      <td>-0.481</td>\n",
       "    </tr>\n",
       "    <tr>\n",
       "      <th>9996</th>\n",
       "      <td>-0.713</td>\n",
       "      <td>2.517</td>\n",
       "      <td>-0.123</td>\n",
       "      <td>-0.184</td>\n",
       "      <td>0.751</td>\n",
       "      <td>0.797</td>\n",
       "      <td>0.562</td>\n",
       "      <td>0.005</td>\n",
       "      <td>-0.286</td>\n",
       "      <td>-0.767</td>\n",
       "      <td>...</td>\n",
       "      <td>-0.103</td>\n",
       "      <td>-0.154</td>\n",
       "      <td>-0.225</td>\n",
       "      <td>0.788</td>\n",
       "      <td>0.854</td>\n",
       "      <td>-0.184</td>\n",
       "      <td>2.314</td>\n",
       "      <td>-0.393</td>\n",
       "      <td>0.848</td>\n",
       "      <td>-1.141</td>\n",
       "    </tr>\n",
       "    <tr>\n",
       "      <th>9997</th>\n",
       "      <td>0.567</td>\n",
       "      <td>0.931</td>\n",
       "      <td>0.447</td>\n",
       "      <td>0.999</td>\n",
       "      <td>0.073</td>\n",
       "      <td>-0.287</td>\n",
       "      <td>0.066</td>\n",
       "      <td>-2.103</td>\n",
       "      <td>-1.606</td>\n",
       "      <td>-0.020</td>\n",
       "      <td>...</td>\n",
       "      <td>-0.546</td>\n",
       "      <td>-0.110</td>\n",
       "      <td>0.852</td>\n",
       "      <td>-1.956</td>\n",
       "      <td>-0.818</td>\n",
       "      <td>-1.993</td>\n",
       "      <td>-0.669</td>\n",
       "      <td>0.059</td>\n",
       "      <td>0.652</td>\n",
       "      <td>0.505</td>\n",
       "    </tr>\n",
       "    <tr>\n",
       "      <th>9998</th>\n",
       "      <td>0.067</td>\n",
       "      <td>-1.336</td>\n",
       "      <td>1.213</td>\n",
       "      <td>0.092</td>\n",
       "      <td>0.494</td>\n",
       "      <td>-0.963</td>\n",
       "      <td>0.374</td>\n",
       "      <td>0.410</td>\n",
       "      <td>0.788</td>\n",
       "      <td>1.997</td>\n",
       "      <td>...</td>\n",
       "      <td>0.828</td>\n",
       "      <td>-0.103</td>\n",
       "      <td>-1.176</td>\n",
       "      <td>0.668</td>\n",
       "      <td>1.373</td>\n",
       "      <td>1.729</td>\n",
       "      <td>1.300</td>\n",
       "      <td>-1.307</td>\n",
       "      <td>-0.920</td>\n",
       "      <td>-1.521</td>\n",
       "    </tr>\n",
       "    <tr>\n",
       "      <th>9999</th>\n",
       "      <td>1.127</td>\n",
       "      <td>0.364</td>\n",
       "      <td>-0.884</td>\n",
       "      <td>-1.690</td>\n",
       "      <td>-2.019</td>\n",
       "      <td>1.449</td>\n",
       "      <td>-1.171</td>\n",
       "      <td>0.478</td>\n",
       "      <td>0.790</td>\n",
       "      <td>0.502</td>\n",
       "      <td>...</td>\n",
       "      <td>-0.100</td>\n",
       "      <td>0.360</td>\n",
       "      <td>-1.714</td>\n",
       "      <td>-0.671</td>\n",
       "      <td>0.382</td>\n",
       "      <td>0.504</td>\n",
       "      <td>1.214</td>\n",
       "      <td>-1.501</td>\n",
       "      <td>0.196</td>\n",
       "      <td>1.390</td>\n",
       "    </tr>\n",
       "  </tbody>\n",
       "</table>\n",
       "<p>5 rows × 1000 columns</p>\n",
       "</div>"
      ],
      "text/plain": [
       "        0      1      2      3      4      5      6      7      8      9    \\\n",
       "9995  0.609 -0.898 -0.230  0.510  0.474 -0.083 -1.070  0.283  1.448  0.855   \n",
       "9996 -0.713  2.517 -0.123 -0.184  0.751  0.797  0.562  0.005 -0.286 -0.767   \n",
       "9997  0.567  0.931  0.447  0.999  0.073 -0.287  0.066 -2.103 -1.606 -0.020   \n",
       "9998  0.067 -1.336  1.213  0.092  0.494 -0.963  0.374  0.410  0.788  1.997   \n",
       "9999  1.127  0.364 -0.884 -1.690 -2.019  1.449 -1.171  0.478  0.790  0.502   \n",
       "\n",
       "      ...      990    991    992    993    994    995    996    997    998  \\\n",
       "9995  ...   -1.852  2.455  1.311  0.435  0.928 -1.265 -0.897 -0.928  0.493   \n",
       "9996  ...   -0.103 -0.154 -0.225  0.788  0.854 -0.184  2.314 -0.393  0.848   \n",
       "9997  ...   -0.546 -0.110  0.852 -1.956 -0.818 -1.993 -0.669  0.059  0.652   \n",
       "9998  ...    0.828 -0.103 -1.176  0.668  1.373  1.729  1.300 -1.307 -0.920   \n",
       "9999  ...   -0.100  0.360 -1.714 -0.671  0.382  0.504  1.214 -1.501  0.196   \n",
       "\n",
       "        999  \n",
       "9995 -0.481  \n",
       "9996 -1.141  \n",
       "9997  0.505  \n",
       "9998 -1.521  \n",
       "9999  1.390  \n",
       "\n",
       "[5 rows x 1000 columns]"
      ]
     },
     "execution_count": 33,
     "metadata": {},
     "output_type": "execute_result"
    }
   ],
   "source": [
    "# Take a look at the data -- it has 10,000 rows and 1,000 columns (each column is a sample)\n",
    "samples.tail()"
   ]
  },
  {
   "cell_type": "markdown",
   "metadata": {},
   "source": [
    "The mean of the population is `0`, however the mean of each sample varies."
   ]
  },
  {
   "cell_type": "code",
   "execution_count": 36,
   "metadata": {
    "scrolled": false
   },
   "outputs": [
    {
     "data": {
      "text/plain": [
       "<matplotlib.axes._subplots.AxesSubplot at 0x750e5f0>"
      ]
     },
     "execution_count": 36,
     "metadata": {},
     "output_type": "execute_result"
    },
    {
     "data": {
      "image/png": "[encoded data removed]",
      "text/plain": [
       "<matplotlib.figure.Figure at 0x71b9c70>"
      ]
     },
     "metadata": {},
     "output_type": "display_data"
    }
   ],
   "source": [
    "# Plot a line chart of the means of each column\n",
    "samples.mean().plot(kind='line', figsize=(15,6))"
   ]
  },
  {
   "cell_type": "markdown",
   "metadata": {},
   "source": [
    "The standard deviation of these 1,000 means is called the standard error of the mean. It's a measure of how far your sample mean is likely to be from the true population mean."
   ]
  },
  {
   "cell_type": "code",
   "execution_count": 38,
   "metadata": {
    "scrolled": false
   },
   "outputs": [
    {
     "data": {
      "text/plain": [
       "0.0099988870199773233"
      ]
     },
     "execution_count": 38,
     "metadata": {},
     "output_type": "execute_result"
    }
   ],
   "source": [
    "# Calculate the standard deviation of the means of each column\n",
    "samples.mean().std()"
   ]
  },
  {
   "cell_type": "markdown",
   "metadata": {},
   "source": [
    "What if you only have one sample? The standard error of the mean can also be calculated by dividing the sample standard deviation by the square root of the sample size."
   ]
  },
  {
   "cell_type": "code",
   "execution_count": 42,
   "metadata": {
    "scrolled": false
   },
   "outputs": [
    {
     "data": {
      "text/plain": [
       "0.010001176587790475"
      ]
     },
     "execution_count": 42,
     "metadata": {},
     "output_type": "execute_result"
    }
   ],
   "source": [
    "# Calculate the standard error of the mean using a random column\n",
    "samples.iloc[:, 485].std() / np.sqrt(samples.iloc[:,485].shape[0])"
   ]
  },
  {
   "cell_type": "markdown",
   "metadata": {},
   "source": [
    "# Part 4: Normal Distribution"
   ]
  },
  {
   "cell_type": "markdown",
   "metadata": {},
   "source": [
    "A normal distribution is a key assumption to many models we will be using later. But what is normal?\n",
    "\n",
    "- The graph of the normal distribution depends on two factors - the **mean** and the **standard deviation**.\n",
    "- The mean of the distribution determines the location of the center of the graph\n",
    "- The standard deviation determines the height of the graph -- when the standard deviation is large, the curve is short and wide; when the standard deviation is small, the curve is tall and narrow. \n",
    "- All normal distributions look like a symmetric, bell-shaped curve."
   ]
  },
  {
   "cell_type": "markdown",
   "metadata": {},
   "source": [
    "Let's take a look at a few normal distributions that all have the same mean but different standard deviations."
   ]
  },
  {
   "cell_type": "code",
   "execution_count": 44,
   "metadata": {
    "scrolled": false
   },
   "outputs": [],
   "source": [
    "# Generate 4 normal distributions each with a mean of 0, but with these standard deviations: [0.5, 1.0, 1.5, 2.0]\n",
    "normal = pd.DataFrame(\n",
    "    data={\n",
    "        'std: 0.5': np.random.normal(loc=0, scale=0.5, size=10000),\n",
    "        'std: 1.0': np.random.normal(loc=0, scale=1.0, size=10000),\n",
    "        'std: 1.5': np.random.normal(loc=0, scale=1.5, size=10000),\n",
    "        'std: 2.0': np.random.normal(loc=0, scale=2.0, size=10000)\n",
    "    },\n",
    ")"
   ]
  },
  {
   "cell_type": "code",
   "execution_count": 45,
   "metadata": {
    "scrolled": false
   },
   "outputs": [
    {
     "data": {
      "text/html": [
       "<div>\n",
       "<style scoped>\n",
       "    .dataframe tbody tr th:only-of-type {\n",
       "        vertical-align: middle;\n",
       "    }\n",
       "\n",
       "    .dataframe tbody tr th {\n",
       "        vertical-align: top;\n",
       "    }\n",
       "\n",
       "    .dataframe thead th {\n",
       "        text-align: right;\n",
       "    }\n",
       "</style>\n",
       "<table border=\"1\" class=\"dataframe\">\n",
       "  <thead>\n",
       "    <tr style=\"text-align: right;\">\n",
       "      <th></th>\n",
       "      <th>std: 0.5</th>\n",
       "      <th>std: 1.0</th>\n",
       "      <th>std: 1.5</th>\n",
       "      <th>std: 2.0</th>\n",
       "    </tr>\n",
       "  </thead>\n",
       "  <tbody>\n",
       "    <tr>\n",
       "      <th>0</th>\n",
       "      <td>-0.076</td>\n",
       "      <td>0.821</td>\n",
       "      <td>1.630</td>\n",
       "      <td>1.301</td>\n",
       "    </tr>\n",
       "    <tr>\n",
       "      <th>1</th>\n",
       "      <td>0.384</td>\n",
       "      <td>-0.526</td>\n",
       "      <td>-0.983</td>\n",
       "      <td>3.318</td>\n",
       "    </tr>\n",
       "    <tr>\n",
       "      <th>2</th>\n",
       "      <td>0.181</td>\n",
       "      <td>0.091</td>\n",
       "      <td>0.302</td>\n",
       "      <td>0.363</td>\n",
       "    </tr>\n",
       "    <tr>\n",
       "      <th>3</th>\n",
       "      <td>0.309</td>\n",
       "      <td>-0.028</td>\n",
       "      <td>0.990</td>\n",
       "      <td>1.054</td>\n",
       "    </tr>\n",
       "    <tr>\n",
       "      <th>4</th>\n",
       "      <td>0.294</td>\n",
       "      <td>0.147</td>\n",
       "      <td>-0.055</td>\n",
       "      <td>-3.825</td>\n",
       "    </tr>\n",
       "  </tbody>\n",
       "</table>\n",
       "</div>"
      ],
      "text/plain": [
       "   std: 0.5  std: 1.0  std: 1.5  std: 2.0\n",
       "0    -0.076     0.821     1.630     1.301\n",
       "1     0.384    -0.526    -0.983     3.318\n",
       "2     0.181     0.091     0.302     0.363\n",
       "3     0.309    -0.028     0.990     1.054\n",
       "4     0.294     0.147    -0.055    -3.825"
      ]
     },
     "execution_count": 45,
     "metadata": {},
     "output_type": "execute_result"
    }
   ],
   "source": [
    "# Verify we generated the data we wanted\n",
    "normal.head()"
   ]
  },
  {
   "cell_type": "code",
   "execution_count": 51,
   "metadata": {
    "scrolled": false
   },
   "outputs": [
    {
     "data": {
      "text/plain": [
       "<matplotlib.axes._subplots.AxesSubplot at 0x1ce81790>"
      ]
     },
     "execution_count": 51,
     "metadata": {},
     "output_type": "execute_result"
    },
    {
     "data": {
      "image/png": "[encoded data removed]",
      "text/plain": [
       "<matplotlib.figure.Figure at 0x1ce8b090>"
      ]
     },
     "metadata": {},
     "output_type": "display_data"
    }
   ],
   "source": [
    "# Plot all of the columns using a 'density' plot\n",
    "normal.plot(kind='density', figsize=(10,6), xlim=(-5, 5))"
   ]
  },
  {
   "cell_type": "markdown",
   "metadata": {},
   "source": [
    "### Skewness\n",
    "\n",
    "In probability theory and statistics, skewness is a measure of the asymmetry of the probability distribution of a random variable about its mean. The skewness value can be positive or negative, or even undefined.\n",
    "\n",
    "<img(src='images/skew.png', style=\"width: 70%; height: 70%\")>"
   ]
  },
  {
   "cell_type": "code",
   "execution_count": 52,
   "metadata": {
    "scrolled": false
   },
   "outputs": [],
   "source": [
    "# We can use the scipy library for this\n",
    "from scipy.stats import skewnorm"
   ]
  },
  {
   "cell_type": "code",
   "execution_count": 53,
   "metadata": {
    "scrolled": false
   },
   "outputs": [
    {
     "data": {
      "text/plain": [
       "<matplotlib.axes._subplots.AxesSubplot at 0x751dd50>"
      ]
     },
     "execution_count": 53,
     "metadata": {},
     "output_type": "execute_result"
    },
    {
     "data": {
      "image/png": "[encoded data removed]",
      "text/plain": [
       "<matplotlib.figure.Figure at 0x1ce8b7f0>"
      ]
     },
     "metadata": {},
     "output_type": "display_data"
    }
   ],
   "source": [
    "# Generate random variables from a skewed, normal distribution\n",
    "right_skewed = skewnorm.rvs(a=10.0, loc=0.0, scale=1.0, size=10000)\n",
    "left_skewed = skewnorm.rvs(a=-10.0, loc=0.0, scale=1.0, size=10000)\n",
    "\n",
    "skew = pd.DataFrame(\n",
    "    data={\n",
    "        'Right-skewed': right_skewed,\n",
    "        'Left-skewed': left_skewed\n",
    "    },\n",
    ")\n",
    "\n",
    "skew.plot(kind='density', figsize=(10, 8))"
   ]
  },
  {
   "cell_type": "code",
   "execution_count": 61,
   "metadata": {
    "scrolled": false
   },
   "outputs": [
    {
     "ename": "SyntaxError",
     "evalue": "invalid syntax (<ipython-input-61-7ff998a97b3c>, line 23)",
     "output_type": "error",
     "traceback": [
      "\u001b[1;36m  File \u001b[1;32m\"<ipython-input-61-7ff998a97b3c>\"\u001b[1;36m, line \u001b[1;32m23\u001b[0m\n\u001b[1;33m    linewidth=3.0,\u001b[0m\n\u001b[1;37m                  ^\u001b[0m\n\u001b[1;31mSyntaxError\u001b[0m\u001b[1;31m:\u001b[0m invalid syntax\n"
     ]
    }
   ],
   "source": [
    "# Let's take a closer look at the right-skewed distribution\n",
    "right_skew = skew['Right-skewed']\n",
    "\n",
    "# Plot the skewed data\n",
    "right_skew.plot(kind='density')\n",
    "\n",
    "# Plot a black line at the mean\n",
    "plt.vlines(\n",
    "    right_skew.mean(),\n",
    "    ymin=0, \n",
    "    ymax=0.8,\n",
    "    color='black', \n",
    "    linewidth=3.0,\n",
    "\n",
    ")\n",
    "\n",
    "# Plot a red line at the median\n",
    "plt.vlines(\n",
    "    right_skew.median(),\n",
    "    ymin=0, \n",
    "    ymax=0.8,\n",
    "    color='red', \n",
    "    linewidth=3.0,"
   ]
  },
  {
   "cell_type": "markdown",
   "metadata": {},
   "source": [
    "# Part 5: Central Limit Theorem"
   ]
  },
  {
   "cell_type": "markdown",
   "metadata": {},
   "source": [
    "The central limit theorem is a fundamental tool in statistics. It says, with some assumptions, that sampling distributions are normal with a specific mean and standard deviation. It's a vital tool in data science when working with large data sets. Often a random sample (or many random samples) can tell us crucial information about a much larger dataset.\n",
    "\n",
    "For example, if you work at a large social media company and you want to estimate the distribution of the ages of your users for targetting ads, you could extract the ages of hundreds of millions of users from your database and compute the distribution. This will take a lot of time and effort, and it's usually enough to simply look at a much smaller but random subset of users."
   ]
  },
  {
   "cell_type": "markdown",
   "metadata": {},
   "source": [
    "### Sampling Distributions\n",
    "\n",
    "Usually we do not know the true distribution of our data so we study it by looking at the distribution of random samples. It turns out that we can often identify the underlying \"true\" distribution within any necessary degree of approximation as long as we can obtain enough data."
   ]
  },
  {
   "cell_type": "markdown",
   "metadata": {},
   "source": [
    "#### Customers Arriving to Our Store\n",
    "\n",
    "Let's say that we want to model the arrival of customers to our store. Each customer arrival is independent (i.e. the time one customer arrives doesn't depend on the time that any other customer arrives). The time between customer arrivals can be modeled with an exponential distribution."
   ]
  },
  {
   "cell_type": "markdown",
   "metadata": {},
   "source": [
    "For our **population** assume we know that **50 customers** arrive per hour on average. We want to know the expected time between each arrival."
   ]
  },
  {
   "cell_type": "code",
   "execution_count": 62,
   "metadata": {
    "scrolled": false
   },
   "outputs": [],
   "source": [
    "# We can use these functions to plot an exponential distribution\n",
    "\n",
    "lam = 50 / 60.\n",
    "\n",
    "def exp_pdf(x):\n",
    "    return lam * np.exp(-lam * x)\n",
    "\n",
    "def exp_cdf(x):\n",
    "    return 1 - np.exp(-lam * x)"
   ]
  },
  {
   "cell_type": "code",
   "execution_count": 67,
   "metadata": {
    "scrolled": false
   },
   "outputs": [
    {
     "name": "stdout",
     "output_type": "stream",
     "text": [
      "Mean of Distribution: 1.2\n",
      "Median of Distribution: 0.833333333333\n",
      "Standard Deviation of Distribution: 1.2\n"
     ]
    },
    {
     "data": {
      "image/png": "[encoded data removed]",
      "text/plain": [
       "<matplotlib.figure.Figure at 0x1d4a6db0>"
      ]
     },
     "metadata": {},
     "output_type": "display_data"
    }
   ],
   "source": [
    "# Plot the PDF of an exponential distribution where 50 customers arrive every 60 minutes\n",
    "x = np.arange(0, 5, 0.1)\n",
    "pd.Series(x, index=x).apply(exp_pdf).plot(kind='line', figsize=(10,8), xlim=(0, 5))\n",
    "\n",
    "# Add lines to highlight the mean and median\n",
    "plt.vlines(\n",
    "    1 / lam,\n",
    "    ymin=0,\n",
    "    ymax=1,\n",
    "    color='black',\n",
    "\n",
    ")\n",
    "\n",
    "plt.vlines(\n",
    "    lam,\n",
    "    ymin=0,\n",
    "    ymax=1,\n",
    "    color='black',\n",
    "\n",
    ")\n",
    "\n",
    "print 'Mean of Distribution: {}'.format(1 / lam)\n",
    "print 'Median of Distribution: {}'.format(lam)\n",
    "print 'Standard Deviation of Distribution: {}'.format(1 / lam)"
   ]
  },
  {
   "cell_type": "markdown",
   "metadata": {},
   "source": [
    "This is a **probability density function (PDF)**. The x-value is the time between two customers and the y-value is the probability of seeing that x value."
   ]
  },
  {
   "cell_type": "code",
   "execution_count": 68,
   "metadata": {
    "scrolled": false
   },
   "outputs": [
    {
     "data": {
      "text/plain": [
       "<matplotlib.collections.LineCollection at 0x1d649170>"
      ]
     },
     "execution_count": 68,
     "metadata": {},
     "output_type": "execute_result"
    },
    {
     "data": {
      "image/png": "[encoded data removed]",
      "text/plain": [
       "<matplotlib.figure.Figure at 0x1d5a4b30>"
      ]
     },
     "metadata": {},
     "output_type": "display_data"
    }
   ],
   "source": [
    "# Plot the CDF of an exponential distribution where 50 customers arrive every 60 minutes\n",
    "x = np.arange(0, 5, 0.1)\n",
    "pd.Series(x, index=x).apply(exp_cdf).plot(kind='line', figsize=(10,8), xlim=(0, 5))\n",
    "\n",
    "# Add lines to highlight that lambda is the median of the distribution\n",
    "plt.vlines(50 / 60., ymin=0, ymax=1.0, linewidth=3.0, color='black')\n",
    "plt.hlines(0.5, xmin=0, xmax=5.0, linewidth=3.0, color='black')"
   ]
  },
  {
   "cell_type": "markdown",
   "metadata": {},
   "source": [
    "This is a **cumulative density function (PDF)**. The x-value is the time between two customers and the y-value is the probability of seeing that x value *or less*. The median of a distribution is the corresponding value on the x axis for a y-value of 0.5."
   ]
  },
  {
   "cell_type": "markdown",
   "metadata": {},
   "source": [
    "Now, let's take a look at random samples from our distribution. Re-run the following cell serveral times to see how the samples change."
   ]
  },
  {
   "cell_type": "code",
   "execution_count": 70,
   "metadata": {
    "scrolled": false
   },
   "outputs": [
    {
     "name": "stdout",
     "output_type": "stream",
     "text": [
      "Mean of Sample: 1.3226789778\n",
      "Standard Deviation of Sample: 1.42028516994\n"
     ]
    },
    {
     "data": {
      "image/png": "[encoded data removed]",
      "text/plain": [
       "<matplotlib.figure.Figure at 0x74cbbf0>"
      ]
     },
     "metadata": {},
     "output_type": "display_data"
    }
   ],
   "source": [
    "# Generate random samples from an exponential distribution where 50 customers arrive every 60 minutes\n",
    "customers = pd.Series(np.random.exponential(scale=1/lam, size=100))\n",
    "\n",
    "# Plot the samples using a histogram\n",
    "customers.plot(kind='hist')\n",
    "plt.xlabel('Time Between Customer Arrive')\n",
    "\n",
    "# Add a label for the x-axis\n",
    "\n",
    "\n",
    "# Print out the sample mean and standard deviation\n",
    "print 'Mean of Sample: {}'.format(customers.mean())\n",
    "print 'Standard Deviation of Sample: {}'.format(customers.std())"
   ]
  },
  {
   "cell_type": "markdown",
   "metadata": {},
   "source": [
    "A histogram of our random sample looks approximately like our distribution and the sample has a mean and standard deviation in the ballpark of our true parameter values. Let's take a look at the distribution of the means of many such random samples."
   ]
  },
  {
   "cell_type": "code",
   "execution_count": 72,
   "metadata": {
    "scrolled": false
   },
   "outputs": [
    {
     "name": "stdout",
     "output_type": "stream",
     "text": [
      "Mean of Sample Means: 1.19999707801\n",
      "Standard Deviation of Sample Means: 0.0345931460976\n"
     ]
    },
    {
     "data": {
      "image/png": "[encoded data removed]",
      "text/plain": [
       "<matplotlib.figure.Figure at 0x1d744750>"
      ]
     },
     "metadata": {},
     "output_type": "display_data"
    }
   ],
   "source": [
    "# Generate random samples from an exponential distribution where 50 customers arrive every 60 minutes\n",
    "customers = pd.DataFrame(np.random.exponential(scale=1/lam, size=(1000, 20)))\n",
    "\n",
    "# Plot the samples using a histogram\n",
    "customers.mean().plot(kind='hist')\n",
    "# Add a label for the x-axis\n",
    "plt.xlabel('Average time between arrivals')\n",
    "\n",
    "# Print out the mean and standard deviation of our sample means\n",
    "print 'Mean of Sample Means: {}'.format(customers.mean().mean())\n",
    "print 'Standard Deviation of Sample Means: {}'.format(customers.mean().std())"
   ]
  },
  {
   "cell_type": "markdown",
   "metadata": {},
   "source": [
    "The mean of the means is much closer to our actual mean. Let's take many samples and see if things get better."
   ]
  },
  {
   "cell_type": "code",
   "execution_count": 75,
   "metadata": {
    "scrolled": false
   },
   "outputs": [
    {
     "name": "stdout",
     "output_type": "stream",
     "text": [
      "Mean of Sample Means: 1.19940485479\n",
      "Standard Deviation of Sample Means: 0.0378128159213\n"
     ]
    },
    {
     "data": {
      "image/png": "[encoded data removed]",
      "text/plain": [
       "<matplotlib.figure.Figure at 0x1d6127d0>"
      ]
     },
     "metadata": {},
     "output_type": "display_data"
    }
   ],
   "source": [
    "# Generate random samples from an exponential distribution where 50 customers arrive every 60 minutes\n",
    "customers = pd.DataFrame(np.random.exponential(scale=1/lam, size=(1000, 10000)))\n",
    "\n",
    "# Plot the samples using a histogram\n",
    "customers.mean().plot(kind='hist')\n",
    "\n",
    "# Add a label for the x-axis\n",
    "plt.xlabel('Average Time Between Arrivals')\n",
    "\n",
    "# Print out the mean and standard deviation of our sample means\n",
    "print 'Mean of Sample Means: {}'.format(customers.mean().mean())\n",
    "print 'Standard Deviation of Sample Means: {}'.format(customers.mean().std())"
   ]
  },
  {
   "cell_type": "markdown",
   "metadata": {},
   "source": [
    "That's really close! The distribution looks like a normal distribution too. Let's do a quick curve fit (called a kernel density estimate). First we'll look at a large sample, and then at the distribution of means of many samples."
   ]
  },
  {
   "cell_type": "code",
   "execution_count": 76,
   "metadata": {
    "scrolled": false
   },
   "outputs": [
    {
     "data": {
      "text/plain": [
       "<matplotlib.axes._subplots.AxesSubplot at 0x7adda50>"
      ]
     },
     "execution_count": 76,
     "metadata": {},
     "output_type": "execute_result"
    },
    {
     "data": {
      "image/png": "[encoded data removed]",
      "text/plain": [
       "<matplotlib.figure.Figure at 0x1d09e130>"
      ]
     },
     "metadata": {},
     "output_type": "display_data"
    }
   ],
   "source": [
    "# First, plot one sample\n",
    "customers.iloc[0].plot(\n",
    "    kind='hist', \n",
    "    figsize=(10, 8), \n",
    "    ec='black', \n",
    "    alpha=0.5\n",
    ")\n",
    "\n",
    "customers.iloc[0].plot(\n",
    "    kind='density',\n",
    "    figsize=(10, 8), \n",
    "    secondary_y=True, \n",
    "    color='black', \n",
    "    xlim=(0, 15)\n",
    ")"
   ]
  },
  {
   "cell_type": "code",
   "execution_count": 77,
   "metadata": {
    "scrolled": false
   },
   "outputs": [
    {
     "data": {
      "text/plain": [
       "<matplotlib.axes._subplots.AxesSubplot at 0x1dac0b50>"
      ]
     },
     "execution_count": 77,
     "metadata": {},
     "output_type": "execute_result"
    },
    {
     "data": {
      "image/png": "[encoded data removed]",
      "text/plain": [
       "<matplotlib.figure.Figure at 0x1d107050>"
      ]
     },
     "metadata": {},
     "output_type": "display_data"
    }
   ],
   "source": [
    "# Then plot all of the sample means\n",
    "customers.mean().plot(\n",
    "    kind='hist', \n",
    "    figsize=(10, 8), \n",
    "    ec='black', \n",
    "    alpha=0.5\n",
    ")\n",
    "\n",
    "customers.mean().plot(\n",
    "    kind='density',\n",
    "    figsize=(10, 8), \n",
    "    secondary_y=True, \n",
    "    color='black', \n",
    "    xlim=(1.0, 1.4)\n",
    ")"
   ]
  },
  {
   "cell_type": "markdown",
   "metadata": {},
   "source": [
    "## The Central Limit Theorem\n",
    "\n",
    "The [central limit theorem](https://en.wikipedia.org/wiki/Central_limit_theorem) explains what we've just observed. It says that, as the size $n$ of a sample increases, that:\n",
    "* the mean of the sample $\\bar{x}$ converges to the mean of the true distribution, and\n",
    "* the standard deviation $s$ of the sample is the same as the true standard deviation $\\sigma$\n",
    "\n",
    "The sampling distribution of the means has:\n",
    "* The same mean as the original distribution\n",
    "* A standard deviation $\\hat{\\sigma}$ given by the true standard deviation divided by $\\sqrt{n}$:\n",
    "$$\\sigma' = \\frac{\\sigma}{\\sqrt{n}}$$\n",
    "\n",
    "This quantity is usually referred to as the *standard error*."
   ]
  },
  {
   "cell_type": "markdown",
   "metadata": {},
   "source": [
    "In practice, we typically use these results as follows. Take a large random sample and calculate the sample mean $\\bar{x}$ and the sample deviation $s$. If we were to do this repeatedly, then 95% of the time, the true mean would lie in the interval:\n",
    "$$(\\bar{x} - 2s, \\bar{x} + 2s)$$\n",
    "\n",
    "As the sample size $n$ gets large, the error $s$ gets small. So for a large enough sample we can get a very good approximation of the true mean."
   ]
  },
  {
   "cell_type": "markdown",
   "metadata": {},
   "source": [
    "# Part 6: Confidence Intervals"
   ]
  },
  {
   "cell_type": "markdown",
   "metadata": {},
   "source": [
    "Confidence intervals are one of the most commonly used statistical methods to summarize\n",
    "uncertainty in parameter estimates from data analyses.\n",
    "\n",
    "A confidence interval (CI) is the range of values the true value in the population is expected to fall within. It is based on a certain level of confidence.\n",
    "\n",
    "The width of the CI changes with changes in sample size. The width of the confidence interval is larger with small sample sizes. You don’t have enough data to get a clear picture of what is going on so your range of possible values is wider. The width of the CI decreases with an increasing sample size $n$."
   ]
  },
  {
   "cell_type": "markdown",
   "metadata": {},
   "source": [
    "### Bootstrapping\n",
    "\n",
    "A common way of creating confidence intervals is through a process called bootstrapping. Essentially, bootstrapping just means sampling with replacement. Through this process, we can turn one sample of 1,000 observations into 1,000 samples of 1,000 observations.\n",
    "\n",
    "Let's try calculating the confidence interval around the average number of days in a month users are active on our website."
   ]
  },
  {
   "cell_type": "code",
   "execution_count": 84,
   "metadata": {
    "scrolled": false
   },
   "outputs": [],
   "source": [
    "# Read in the active_users dataset\n",
    "path = 'data/active_users.csv'\n",
    "active = pd.read_csv(path)['l30']\n"
   ]
  },
  {
   "cell_type": "code",
   "execution_count": 85,
   "metadata": {
    "scrolled": false
   },
   "outputs": [
    {
     "data": {
      "text/plain": [
       "<matplotlib.axes._subplots.AxesSubplot at 0x1dae97b0>"
      ]
     },
     "execution_count": 85,
     "metadata": {},
     "output_type": "execute_result"
    },
    {
     "data": {
      "image/png": "[encoded data removed]",
      "text/plain": [
       "<matplotlib.figure.Figure at 0x1daf6170>"
      ]
     },
     "metadata": {},
     "output_type": "display_data"
    }
   ],
   "source": [
    "# Plot the data using a histogram\n",
    "active.plot(\n",
    "    kind='hist',\n",
    "    ec='black',\n",
    "    bins=10\n",
    "\n",
    ")\n",
    "# Add a label for the x-axis\n"
   ]
  },
  {
   "cell_type": "code",
   "execution_count": 87,
   "metadata": {
    "scrolled": false
   },
   "outputs": [],
   "source": [
    "# Use np.random.choice to generate 1,000 bootstrapped samples, each with 1,000 observations\n",
    "boot = pd.DataFrame(np.random.choice(active, replace=True, size=(1000,1000)))"
   ]
  },
  {
   "cell_type": "code",
   "execution_count": 88,
   "metadata": {
    "scrolled": false
   },
   "outputs": [
    {
     "data": {
      "text/plain": [
       "<matplotlib.axes._subplots.AxesSubplot at 0x1dbfd630>"
      ]
     },
     "execution_count": 88,
     "metadata": {},
     "output_type": "execute_result"
    },
    {
     "data": {
      "image/png": "[encoded data removed]",
      "text/plain": [
       "<matplotlib.figure.Figure at 0x242f73f0>"
      ]
     },
     "metadata": {},
     "output_type": "display_data"
    }
   ],
   "source": [
    "# Plot the distribution of sample means\n",
    "boot.mean().plot(kind='hist')"
   ]
  },
  {
   "cell_type": "code",
   "execution_count": 89,
   "metadata": {
    "scrolled": false
   },
   "outputs": [],
   "source": [
    "# Let's calculate the 95% confidence interval\n",
    "# It extends from the 2.5th percentile to the 97.5th percentile\n",
    "bottom = boot.mean().quantile(0.025)\n",
    "top = boot.mean().quantile(0.975)\n",
    "#print '95% Confidence Interval: [{bottom}, {top}]'.format(**locals())"
   ]
  },
  {
   "cell_type": "code",
   "execution_count": 94,
   "metadata": {
    "scrolled": false
   },
   "outputs": [
    {
     "data": {
      "text/plain": [
       "[19.579050000000002, 18.1319]"
      ]
     },
     "execution_count": 94,
     "metadata": {},
     "output_type": "execute_result"
    }
   ],
   "source": [
    "# Let's add the 95% confidence interval to the graph\n",
    "[top, bottom]"
   ]
  },
  {
   "cell_type": "markdown",
   "metadata": {},
   "source": [
    "# Part 7: Hypothesis Testing and P-Values"
   ]
  },
  {
   "cell_type": "markdown",
   "metadata": {},
   "source": [
    "Closely related to confidence intervals is **hypothesis testing**. Generally speaking, you start with a **null hypothesis** and an **alternative hypothesis** - a hypothesis that is the opposite of the null. Then, you check whether the data supports **rejecting the null hypothesis** or **failing to reject the null hypothesis**, at some level of significance.\n",
    "\n",
    "Note that \"failing to reject\" the null is ***not*** the same as \"accepting\" the null hypothesis. Your alternative hypothesis may indeed be true, but you don't necessarily have enough data to show that yet."
   ]
  },
  {
   "cell_type": "markdown",
   "metadata": {},
   "source": [
    "### One-Tailed Hypothesis Test\n",
    "\n",
    "We can use a one-tailed hypothesis test to find out if the true parameter (e.g., mean, proportion, difference in means, differences in proportions) is greater than ***or*** less than a value, **but not both**. Because of this, in practice, most data scientists tend to use two-tailed hypothesis tests.\n",
    "\n",
    "### Two-Tailed Hypothesis Test\n",
    "\n",
    "Suppose we want to test the hypothesis that males have more friends on social media platforms than females. Our null hypothesis would be that the relative difference in friends between males and females is 0 and the alternative hypothesis would be that the relative difference is not 0 (can be greater than or less than 0)."
   ]
  },
  {
   "cell_type": "code",
   "execution_count": null,
   "metadata": {
    "collapsed": true,
    "scrolled": false
   },
   "outputs": [],
   "source": [
    "# Read in the friends dataset\n",
    "path = '../../data/friends.csv'\n"
   ]
  },
  {
   "cell_type": "code",
   "execution_count": null,
   "metadata": {
    "scrolled": false
   },
   "outputs": [],
   "source": [
    "# Calculate the average number of friends between males and females\n"
   ]
  },
  {
   "cell_type": "code",
   "execution_count": null,
   "metadata": {
    "scrolled": false
   },
   "outputs": [],
   "source": [
    "# Plot the distributions as density plot\n",
    "fig, ax = plt.subplots(figsize=(10,8))\n",
    "\n",
    "for label, data in friends.groupby('gender'):\n",
    "    data['friends'].plot(kind='density', ax=ax, label=label, legend=True, xlim=(0, 3000))"
   ]
  },
  {
   "cell_type": "code",
   "execution_count": null,
   "metadata": {
    "collapsed": true,
    "scrolled": false
   },
   "outputs": [],
   "source": [
    "# Generate 95% confidence intervals around the mean for males then for females\n",
    "# If their confidence intervals overlap, then we do not reject the null hypothesis\n"
   ]
  }
 ],
 "metadata": {
  "kernelspec": {
   "display_name": "Python 2",
   "language": "python",
   "name": "python2"
  },
  "language_info": {
   "codemirror_mode": {
    "name": "ipython",
    "version": 2
   },
   "file_extension": ".py",
   "mimetype": "text/x-python",
   "name": "python",
   "nbconvert_exporter": "python",
   "pygments_lexer": "ipython2",
   "version": "2.7.14"
  }
 },
 "nbformat": 4,
 "nbformat_minor": 2
}
